{
 "cells": [
  {
   "cell_type": "markdown",
   "metadata": {},
   "source": [
    "# Reshape Pandas Warmup\n",
    "\n",
    "![](viz/pandas_exercise.gif)"
   ]
  },
  {
   "cell_type": "markdown",
   "metadata": {},
   "source": [
    "Don't worry about completing this if you're in a time-crunch with other material!  The strong panda will be here when you get back."
   ]
  },
  {
   "cell_type": "code",
   "execution_count": 1,
   "metadata": {},
   "outputs": [],
   "source": [
    "# Run this cell w/o changes to load tests\n",
    "\n",
    "from test_background import pkl_dump, test_obj_dict, run_test_dict, run_test"
   ]
  },
  {
   "cell_type": "markdown",
   "metadata": {},
   "source": [
    "## Imports\n",
    "\n",
    "Import:\n",
    "- Pandas as the alias pd\n",
    "\n",
    "- Numpy as the alias np\n",
    "\n",
    "- Matplotlib.pyplot as the alias plt\n",
    "\n",
    "Run %matplotlib inline"
   ]
  },
  {
   "cell_type": "code",
   "execution_count": 4,
   "metadata": {},
   "outputs": [],
   "source": [
    "#Your code here\n",
    "import pandas as pd\n",
    "import numpy as np\n",
    "import matplotlib.pyplot as plt\n",
    "%matplotlib inline"
   ]
  },
  {
   "cell_type": "markdown",
   "metadata": {},
   "source": [
    "Read in the csv 'econ_stats' from the data folder as a dataframe\n",
    "\n",
    "Assign it to the variable econ_stats"
   ]
  },
  {
   "cell_type": "code",
   "execution_count": 5,
   "metadata": {},
   "outputs": [],
   "source": [
    "#Your code here\n",
    "econ_stats = pd.read_csv(\"./data/econ_stats.csv\")"
   ]
  },
  {
   "cell_type": "markdown",
   "metadata": {},
   "source": [
    "## Data Exploration"
   ]
  },
  {
   "cell_type": "markdown",
   "metadata": {},
   "source": [
    "Take a look at `econ_stats.head()`, `econ_stats.info()` and `econ_stats.describe(include='all')`\n",
    "\n",
    "How many unique values are in the categorical variables `Country` and `Stat`?  If some repeat, what are they?\n",
    "\n",
    "How many unique values in the numerical variables `Year` and `Data`?  If some repeat, what are they?\n",
    "\n",
    "How does the data appear to be organized?"
   ]
  },
  {
   "cell_type": "code",
   "execution_count": 6,
   "metadata": {
    "collapsed": true,
    "jupyter": {
     "outputs_hidden": true
    }
   },
   "outputs": [
    {
     "data": {
      "text/html": [
       "<div>\n",
       "<style scoped>\n",
       "    .dataframe tbody tr th:only-of-type {\n",
       "        vertical-align: middle;\n",
       "    }\n",
       "\n",
       "    .dataframe tbody tr th {\n",
       "        vertical-align: top;\n",
       "    }\n",
       "\n",
       "    .dataframe thead th {\n",
       "        text-align: right;\n",
       "    }\n",
       "</style>\n",
       "<table border=\"1\" class=\"dataframe\">\n",
       "  <thead>\n",
       "    <tr style=\"text-align: right;\">\n",
       "      <th></th>\n",
       "      <th>Country</th>\n",
       "      <th>Year</th>\n",
       "      <th>Stat</th>\n",
       "      <th>Data</th>\n",
       "    </tr>\n",
       "  </thead>\n",
       "  <tbody>\n",
       "    <tr>\n",
       "      <td>0</td>\n",
       "      <td>US</td>\n",
       "      <td>1956</td>\n",
       "      <td>Domestic Wheat Price</td>\n",
       "      <td>22.981728</td>\n",
       "    </tr>\n",
       "    <tr>\n",
       "      <td>1</td>\n",
       "      <td>US</td>\n",
       "      <td>1956</td>\n",
       "      <td>Wheat Exports</td>\n",
       "      <td>80.327631</td>\n",
       "    </tr>\n",
       "    <tr>\n",
       "      <td>2</td>\n",
       "      <td>US</td>\n",
       "      <td>1956</td>\n",
       "      <td>Wheat Imports</td>\n",
       "      <td>54.982899</td>\n",
       "    </tr>\n",
       "    <tr>\n",
       "      <td>3</td>\n",
       "      <td>US</td>\n",
       "      <td>1957</td>\n",
       "      <td>Domestic Wheat Price</td>\n",
       "      <td>50.507799</td>\n",
       "    </tr>\n",
       "    <tr>\n",
       "      <td>4</td>\n",
       "      <td>US</td>\n",
       "      <td>1957</td>\n",
       "      <td>Wheat Exports</td>\n",
       "      <td>54.024780</td>\n",
       "    </tr>\n",
       "  </tbody>\n",
       "</table>\n",
       "</div>"
      ],
      "text/plain": [
       "  Country  Year                  Stat       Data\n",
       "0      US  1956  Domestic Wheat Price  22.981728\n",
       "1      US  1956         Wheat Exports  80.327631\n",
       "2      US  1956         Wheat Imports  54.982899\n",
       "3      US  1957  Domestic Wheat Price  50.507799\n",
       "4      US  1957         Wheat Exports  54.024780"
      ]
     },
     "execution_count": 6,
     "metadata": {},
     "output_type": "execute_result"
    }
   ],
   "source": [
    "#Your code here\n",
    "econ_stats.head()"
   ]
  },
  {
   "cell_type": "code",
   "execution_count": 7,
   "metadata": {
    "collapsed": true,
    "jupyter": {
     "outputs_hidden": true
    }
   },
   "outputs": [
    {
     "name": "stdout",
     "output_type": "stream",
     "text": [
      "<class 'pandas.core.frame.DataFrame'>\n",
      "RangeIndex: 150 entries, 0 to 149\n",
      "Data columns (total 4 columns):\n",
      "Country    150 non-null object\n",
      "Year       150 non-null int64\n",
      "Stat       150 non-null object\n",
      "Data       150 non-null float64\n",
      "dtypes: float64(1), int64(1), object(2)\n",
      "memory usage: 4.8+ KB\n"
     ]
    }
   ],
   "source": [
    "econ_stats.info()"
   ]
  },
  {
   "cell_type": "code",
   "execution_count": 8,
   "metadata": {},
   "outputs": [
    {
     "data": {
      "text/html": [
       "<div>\n",
       "<style scoped>\n",
       "    .dataframe tbody tr th:only-of-type {\n",
       "        vertical-align: middle;\n",
       "    }\n",
       "\n",
       "    .dataframe tbody tr th {\n",
       "        vertical-align: top;\n",
       "    }\n",
       "\n",
       "    .dataframe thead th {\n",
       "        text-align: right;\n",
       "    }\n",
       "</style>\n",
       "<table border=\"1\" class=\"dataframe\">\n",
       "  <thead>\n",
       "    <tr style=\"text-align: right;\">\n",
       "      <th></th>\n",
       "      <th>Country</th>\n",
       "      <th>Year</th>\n",
       "      <th>Stat</th>\n",
       "      <th>Data</th>\n",
       "    </tr>\n",
       "  </thead>\n",
       "  <tbody>\n",
       "    <tr>\n",
       "      <td>count</td>\n",
       "      <td>150</td>\n",
       "      <td>150.000000</td>\n",
       "      <td>150</td>\n",
       "      <td>150.000000</td>\n",
       "    </tr>\n",
       "    <tr>\n",
       "      <td>unique</td>\n",
       "      <td>5</td>\n",
       "      <td>NaN</td>\n",
       "      <td>3</td>\n",
       "      <td>NaN</td>\n",
       "    </tr>\n",
       "    <tr>\n",
       "      <td>top</td>\n",
       "      <td>France</td>\n",
       "      <td>NaN</td>\n",
       "      <td>Wheat Exports</td>\n",
       "      <td>NaN</td>\n",
       "    </tr>\n",
       "    <tr>\n",
       "      <td>freq</td>\n",
       "      <td>30</td>\n",
       "      <td>NaN</td>\n",
       "      <td>50</td>\n",
       "      <td>NaN</td>\n",
       "    </tr>\n",
       "    <tr>\n",
       "      <td>mean</td>\n",
       "      <td>NaN</td>\n",
       "      <td>1960.500000</td>\n",
       "      <td>NaN</td>\n",
       "      <td>82.056109</td>\n",
       "    </tr>\n",
       "    <tr>\n",
       "      <td>std</td>\n",
       "      <td>NaN</td>\n",
       "      <td>2.881904</td>\n",
       "      <td>NaN</td>\n",
       "      <td>33.415946</td>\n",
       "    </tr>\n",
       "    <tr>\n",
       "      <td>min</td>\n",
       "      <td>NaN</td>\n",
       "      <td>1956.000000</td>\n",
       "      <td>NaN</td>\n",
       "      <td>8.157261</td>\n",
       "    </tr>\n",
       "    <tr>\n",
       "      <td>25%</td>\n",
       "      <td>NaN</td>\n",
       "      <td>1958.000000</td>\n",
       "      <td>NaN</td>\n",
       "      <td>58.285550</td>\n",
       "    </tr>\n",
       "    <tr>\n",
       "      <td>50%</td>\n",
       "      <td>NaN</td>\n",
       "      <td>1960.500000</td>\n",
       "      <td>NaN</td>\n",
       "      <td>81.394829</td>\n",
       "    </tr>\n",
       "    <tr>\n",
       "      <td>75%</td>\n",
       "      <td>NaN</td>\n",
       "      <td>1963.000000</td>\n",
       "      <td>NaN</td>\n",
       "      <td>106.787937</td>\n",
       "    </tr>\n",
       "    <tr>\n",
       "      <td>max</td>\n",
       "      <td>NaN</td>\n",
       "      <td>1965.000000</td>\n",
       "      <td>NaN</td>\n",
       "      <td>154.399830</td>\n",
       "    </tr>\n",
       "  </tbody>\n",
       "</table>\n",
       "</div>"
      ],
      "text/plain": [
       "       Country         Year           Stat        Data\n",
       "count      150   150.000000            150  150.000000\n",
       "unique       5          NaN              3         NaN\n",
       "top     France          NaN  Wheat Exports         NaN\n",
       "freq        30          NaN             50         NaN\n",
       "mean       NaN  1960.500000            NaN   82.056109\n",
       "std        NaN     2.881904            NaN   33.415946\n",
       "min        NaN  1956.000000            NaN    8.157261\n",
       "25%        NaN  1958.000000            NaN   58.285550\n",
       "50%        NaN  1960.500000            NaN   81.394829\n",
       "75%        NaN  1963.000000            NaN  106.787937\n",
       "max        NaN  1965.000000            NaN  154.399830"
      ]
     },
     "execution_count": 8,
     "metadata": {},
     "output_type": "execute_result"
    }
   ],
   "source": [
    "econ_stats.describe(include='all')"
   ]
  },
  {
   "cell_type": "markdown",
   "metadata": {},
   "source": [
    "There are 5 unique variables in the `Country` variable and 3 unique in the `Stat` variable.  \n",
    "There are 10 unique values for th `Year` variable and 150 unique values for `Data` which means every entry/row is unique for the `Data` column (see below).  \n",
    "\n",
    "Not sure what is meant by 'how is the data organised'....  But it is in long format"
   ]
  },
  {
   "cell_type": "code",
   "execution_count": 13,
   "metadata": {},
   "outputs": [
    {
     "data": {
      "text/plain": [
       "10"
      ]
     },
     "execution_count": 13,
     "metadata": {},
     "output_type": "execute_result"
    }
   ],
   "source": [
    "len(econ_stats['Year'].unique())"
   ]
  },
  {
   "cell_type": "code",
   "execution_count": 14,
   "metadata": {},
   "outputs": [
    {
     "data": {
      "text/plain": [
       "150"
      ]
     },
     "execution_count": 14,
     "metadata": {},
     "output_type": "execute_result"
    }
   ],
   "source": [
    "len(econ_stats['Data'].unique())"
   ]
  },
  {
   "cell_type": "markdown",
   "metadata": {},
   "source": [
    "## Data Reshaping"
   ]
  },
  {
   "cell_type": "markdown",
   "metadata": {},
   "source": [
    "In order to make this data easier to manipulate and analyze, we want to turn it from \"long\" to \"wide\"\n",
    "\n",
    "In other words, we want to make each row an observation which has:\n",
    "- 1 country\n",
    "- 1 year\n",
    "- data values for each of the 3 stats\n",
    "\n"
   ]
  },
  {
   "cell_type": "markdown",
   "metadata": {},
   "source": [
    "making a total of 5 columns\n",
    "\n",
    "We already have \"Country\" and \"Year\", so let's work on making the additional 3 columns.\n",
    "\n",
    "In class, we've gone over `.pivot()` to reshape.\n",
    "\n",
    "We're going to make each of these three columns a different way.  "
   ]
  },
  {
   "cell_type": "markdown",
   "metadata": {},
   "source": [
    "## Way 1: list comprehension \n",
    "\n",
    "To make the `Domestic Wheat Price` column, do the following:\n",
    "\n",
    "- create a column named `Domestic Wheat Price` that is filled with nulls\n",
    "- write a function that:\n",
    "    - takes input parameters `row`, `df`\n",
    "    - finds the `Year` value in `df` for that `row`\n",
    "    - finds the `Country` in `df` for that `row`\n",
    "    - finds the value of `Domestic Wheat Price` in `df` for those `Year` and `Country` values\n",
    "    - returns that value\n",
    "- make a list comprehension that uses your function to fill `Domestic Wheat Price`\n",
    "- check to make sure `Domestic Wheat Price` no longer has nulls!"
   ]
  },
  {
   "cell_type": "markdown",
   "metadata": {},
   "source": [
    "(notice that there are repeat values in `Domestic Wheat Price`, because we have multiple rows with the same country and year values)"
   ]
  },
  {
   "cell_type": "code",
   "execution_count": 9,
   "metadata": {},
   "outputs": [],
   "source": [
    "#Your code here"
   ]
  },
  {
   "cell_type": "code",
   "execution_count": 28,
   "metadata": {},
   "outputs": [],
   "source": [
    "#run this cell to check your work\n",
    "\n",
    "run_test(econ_stats['Domestic Wheat Price'], 'domestic_wheat_price_column')"
   ]
  },
  {
   "cell_type": "markdown",
   "metadata": {},
   "source": [
    "## Way 2: Split-Apply-Combine\n",
    "\n",
    "To make the `Wheat Exports` column, do the following:\n",
    "\n",
    "- create an empty list called `dfs`\n",
    "- create a `for loop` cycling through the unique `Country` names\n",
    "- inside the loop, for each country:\n",
    "    - Assign to a variable `temp` all rows from `econ_stats` where:\n",
    "        - the value in the `Country` column is the country in the current loop\n",
    "        - the value in the `Stat` column is 'Wheat Exports'\n",
    "    - Rename the `data` column to 'Wheat Exports'\n",
    "    - drop extraneous columns (everything but `Country`, `Year` and `Wheat Exports`) from `temp`\n",
    "    - Append `temp` to `dfs`\n",
    "- check to make sure you have all the dataframes you expect to have in `dfs`\n",
    "- assign to `wheat_exports` the [concatenation](https://pandas.pydata.org/pandas-docs/version/0.25.0/reference/api/pandas.concat.html) of all the dataframes inside of `dfs` \n",
    "- merge `wheat_exports_frames` with `econ_stats`, using `Country` and `Year` as the keys\n",
    "- sort `econ_stats` by `Country` and `Year`\n",
    "- reset the index (this will become clearer why in the method below) without appending the old index as a column (ie make the `drop` parameter `True`)"
   ]
  },
  {
   "cell_type": "code",
   "execution_count": 12,
   "metadata": {},
   "outputs": [],
   "source": [
    "#Your code here"
   ]
  },
  {
   "cell_type": "code",
   "execution_count": 27,
   "metadata": {},
   "outputs": [],
   "source": [
    "#run this cell to check your work\n",
    "\n",
    "run_test(econ_stats['Wheat Exports'], 'wheat_exports_column')"
   ]
  },
  {
   "cell_type": "markdown",
   "metadata": {},
   "source": [
    "## Way 3: .where()\n",
    "\n",
    "[`.where()`](https://pandas.pydata.org/pandas-docs/version/0.25.2/reference/api/pandas.Series.where.html) is a *fast* way to replace values of one series or dataframe based on boolean conditionals.\n",
    "\n",
    "In our case, we want to make a new column `Wheat Imports` that:\n",
    "- has the value of `Data` when `Stat` == `\"Wheat Imports\"`\n",
    "- replaces the values of `Data` where `Stat` != `\"Wheat Imports\"` with the values of `Data` when `Stat` == `\"Wheat Imports\"` (for the right `Country`/`Year` combination)\n",
    "\n",
    "`.where()` as a method takes two parameters:\n",
    "- a series or dataframe of `True` or `False` statements\n",
    "- a replacement object to take substitute values from when the statments are `False`\n",
    "\n",
    "It works like this: \n",
    "- at indices where the first argument is `True`, the value in the original column at that index is kept. \n",
    "- at indices where the first argument is `False`, the value from the second argument at that index is substituted.   \n",
    "\n",
    "Both parameters can be a series or a dataframe.  \n",
    "\n",
    "*Ex: `a` = pd.Series([1,2,3,4,5,6]), `b` = pd.Series([0,-1,-2,-3,-4,-5])*\n",
    "\n",
    "*`a.where(a%2==0, b)` = 0,2,-2,4,-4,6*\n",
    "\n",
    "<i>\"At indices where the value of `a` at that index is divisible by 2, keep the value of `a` at that index. At indices where the `a` value is not divisible by 2, substitute the value of `b` at that index.\"</i>\n",
    "\n",
    "To make the `Wheat Imports` column:\n",
    "- append the `.where()` method to `econ_stats['Data']`\n",
    "- for the first argument - a series or dataframe which has `True`/`False` statements at every value - create a series where each value states whether the `Stat` column at that index is equal to `\"Wheat Imports\"`.  \n",
    "\n",
    "*Hint: you would use this series to filter `econ_stats` to show rows where `Stat`==`\"Wheat Imports\"`*\n",
    "\n",
    "- where this series is `True`, the value at that index of `Data` will be kept.\n",
    "- to create the series (the values of `Data` where `Stat`==`\"Wheat Imports\"`) to use as the second argument:\n",
    "    - filter `econ_stats` to only show rows where `Stat` has the value of `Wheat Imports`\n",
    "    - select the 'Data' column from that frame\n",
    "    - [repeat](https://pandas.pydata.org/pandas-docs/version/0.25.0/reference/api/pandas.Series.repeat.html) the values 3 times (why?)\n",
    "    - reset the index (why?)\n",
    "    - select the `Data` column from that frame\n",
    "- remember to assign the `econ_stats['Data'].where()` expression you made to `econ_stats['Wheat Imports']`\n",
    "\n",
    "Make sure the frame is still sorted by `Country` and `Year` when you're done"
   ]
  },
  {
   "cell_type": "code",
   "execution_count": 15,
   "metadata": {},
   "outputs": [],
   "source": [
    "#Your code here"
   ]
  },
  {
   "cell_type": "code",
   "execution_count": 26,
   "metadata": {},
   "outputs": [],
   "source": [
    "#run this cell to test your work\n",
    "\n",
    "run_test(econ_stats['Wheat Imports'], 'wheat_imports_column')"
   ]
  },
  {
   "cell_type": "markdown",
   "metadata": {},
   "source": [
    "## Drop \n",
    "\n",
    "The `Stat` and `Data` columns are now redundant; drop 'em\n",
    "\n",
    "We now have a bunch of duplicated rows\n",
    "\n",
    "- Find the number of duplicated rows\n",
    "- Drop the duplicated rows\n",
    "- Make sure the resulting dataframe has the number of rows you expect"
   ]
  },
  {
   "cell_type": "code",
   "execution_count": 18,
   "metadata": {},
   "outputs": [],
   "source": [
    "#Your code here"
   ]
  },
  {
   "cell_type": "code",
   "execution_count": 25,
   "metadata": {},
   "outputs": [],
   "source": [
    "#run this cell to test your work\n",
    "run_test(econ_stats, 'dropped_rows')"
   ]
  },
  {
   "cell_type": "markdown",
   "metadata": {},
   "source": [
    "## Strrrretch goal: your turn\n",
    "\n",
    "You may notice that we can continue the \"widening\" process further, by making columns for each `Country`'s data and having `Year` the only column left from our original frame\n",
    "\n",
    "Let's do that\n",
    "\n",
    "Create 15 new columns for each row, 3 of the data columns each for each of the five countries\n",
    "\n",
    "Call each new column `\"Country+existing data column name\"`\n",
    "\n",
    "Use whichever method you think is fastest, but apply the method dynamically (eg write the same code 15 times with some values changed)\n",
    "\n",
    "Drop the `Country` column and the three data columns after you're done, so that the frame is just `Year` and the fifteen new data columns\n",
    "\n",
    "Drop the duplicated rows, and check your work!"
   ]
  },
  {
   "cell_type": "code",
   "execution_count": 21,
   "metadata": {},
   "outputs": [],
   "source": [
    "#Your code here"
   ]
  },
  {
   "cell_type": "code",
   "execution_count": 24,
   "metadata": {},
   "outputs": [],
   "source": [
    "#run this cell to test your work\n",
    "run_test(econ_stats, 'stretch_goal')"
   ]
  },
  {
   "cell_type": "code",
   "execution_count": null,
   "metadata": {},
   "outputs": [],
   "source": []
  },
  {
   "cell_type": "code",
   "execution_count": null,
   "metadata": {},
   "outputs": [],
   "source": []
  }
 ],
 "metadata": {
  "kernelspec": {
   "display_name": "Python 3",
   "language": "python",
   "name": "python3"
  },
  "language_info": {
   "codemirror_mode": {
    "name": "ipython",
    "version": 3
   },
   "file_extension": ".py",
   "mimetype": "text/x-python",
   "name": "python",
   "nbconvert_exporter": "python",
   "pygments_lexer": "ipython3",
   "version": "3.6.9"
  }
 },
 "nbformat": 4,
 "nbformat_minor": 4
}
